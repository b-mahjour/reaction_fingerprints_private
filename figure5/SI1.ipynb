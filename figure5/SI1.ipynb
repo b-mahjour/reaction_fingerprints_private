{
 "cells": [
  {
   "cell_type": "code",
   "execution_count": null,
   "id": "97720528-f276-4e46-9a20-cf3b2262f0e8",
   "metadata": {},
   "outputs": [],
   "source": [
    "reagentTypes = [\"electrophile\", \"nucleophile\", \"catalyst_smiles\", \"base_smiles\", \"solvent\"]\n",
    "weights = {\"electrophile\":1, \"nucleophile\":3, \"catalyst_smiles\":1, \"base_smiles\":1, \"solvent\":1}\n",
    "for i,k in data.iterrows():\n",
    "    this_fp = np.zeros(2048)\n",
    "    for rt in reagentTypes:\n",
    "        mol = Chem.MolFromSmiles(k[rt])\n",
    "        # generic fingerprint function, returned weighted fingerprint\n",
    "        fp = getFP(mol, weights[rt]) \n",
    "        this_fp = this_fp + fp\n",
    "    rfps.append(this_fp)\n",
    "\n",
    "# use any embedding algorithm\n",
    "X_TSNE_RFP = TSNE(n_components=2, n_jobs=-1, perplexity=15).fit_transform(np.array(rfps)) \n"
   ]
  }
 ],
 "metadata": {
  "kernelspec": {
   "display_name": "Python 3 (ipykernel)",
   "language": "python",
   "name": "python3"
  },
  "language_info": {
   "codemirror_mode": {
    "name": "ipython",
    "version": 3
   },
   "file_extension": ".py",
   "mimetype": "text/x-python",
   "name": "python",
   "nbconvert_exporter": "python",
   "pygments_lexer": "ipython3",
   "version": "3.9.7"
  }
 },
 "nbformat": 4,
 "nbformat_minor": 5
}
