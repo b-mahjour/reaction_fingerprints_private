{
 "cells": [
  {
   "cell_type": "code",
   "execution_count": 1,
   "id": "35bd01b8-7bba-4ad6-8222-c1a7494482fd",
   "metadata": {},
   "outputs": [
    {
     "name": "stdout",
     "output_type": "stream",
     "text": [
      "2023-06-19 19:40:11,635 INFO sqlalchemy.engine.Engine BEGIN (implicit)\n",
      "2023-06-19 19:40:11,636 INFO sqlalchemy.engine.Engine PRAGMA main.table_info(\"reactions\")\n",
      "2023-06-19 19:40:11,636 INFO sqlalchemy.engine.Engine [raw sql] ()\n",
      "2023-06-19 19:40:11,637 INFO sqlalchemy.engine.Engine COMMIT\n"
     ]
    }
   ],
   "source": [
    "from sqlalchemy.orm import relationship, sessionmaker\n",
    "from sqlalchemy import create_engine\n",
    "from database import Reactions\n",
    "\n",
    "engine = create_engine('sqlite:///reactions2.db', echo = False)\n",
    "\n",
    "Session = sessionmaker(bind=engine)\n",
    "session = Session()"
   ]
  },
  {
   "cell_type": "code",
   "execution_count": 81,
   "id": "85f06b1f-e655-4ffd-8505-98bc0e8b0231",
   "metadata": {},
   "outputs": [],
   "source": [
    "r = session.query(Reactions).all()\n",
    "\n",
    "\n",
    "solvs = {}\n",
    "ele = {}\n",
    "nucleophile = {}\n",
    "catalyst = {}\n",
    "base = {}\n",
    "for k in r:\n",
    "    if \"Suzuki\" not in k.reaction_name:\n",
    "        continue\n",
    "    if k.solvent not in solvs:\n",
    "        solvs[k.solvent] = []\n",
    "    if k.electrophile not in ele:\n",
    "        ele[k.electrophile] = []\n",
    "    # if k.output_value > 175:\n",
    "        # continue\n",
    "    solvs[k.solvent].append(float(k.output_value))"
   ]
  },
  {
   "cell_type": "code",
   "execution_count": 83,
   "id": "b67abc6e-4ab9-460e-9cdb-956b29535ec9",
   "metadata": {},
   "outputs": [
    {
     "name": "stdout",
     "output_type": "stream",
     "text": [
      "8\n",
      "17\n"
     ]
    }
   ],
   "source": [
    "print(len(solvs))\n",
    "print(len(ele))"
   ]
  },
  {
   "cell_type": "code",
   "execution_count": 77,
   "id": "dba5b004-51c7-4007-9dd9-b92dbcfcd290",
   "metadata": {},
   "outputs": [],
   "source": [
    "def plot_boxplots(dictionary):\n",
    "    fig, ax = plt.subplots()\n",
    "    data = list(dictionary.values())\n",
    "    labels = list(dictionary.keys())\n",
    "\n",
    "    ax.boxplot(data, vert=False)\n",
    "    ax.set_yticklabels(labels, fontsize=6, fontfamily=\"arial\")\n",
    "    ax.set_xticklabels([0,20,40,60,80,100,120,140,160], fontsize=6, fontfamily=\"arial\")\n",
    "    ax.set_xlabel('prod/is', fontsize=6, fontfamily=\"arial\")\n",
    "    ax.set_ylabel('solvent', fontsize=6, fontfamily=\"arial\")\n",
    "    ax.set_title('boxplot for each solvent', fontsize=6, fontfamily=\"arial\")\n",
    "    ax.set_xlim([0,175])\n",
    "    plt.savefig(\"boxplots_solvents.png\", dpi=300)"
   ]
  },
  {
   "cell_type": "code",
   "execution_count": 78,
   "id": "b28c4423-9473-4bd7-8248-41a7ca0ee2a6",
   "metadata": {},
   "outputs": [],
   "source": [
    "def sort_dict_by_key(dictionary):\n",
    "    sorted_dict = dict(sorted(dictionary.items()))\n",
    "    return sorted_dict"
   ]
  },
  {
   "cell_type": "code",
   "execution_count": 79,
   "id": "d272926f-904f-4933-9a31-809fe70dcbff",
   "metadata": {},
   "outputs": [
    {
     "name": "stdout",
     "output_type": "stream",
     "text": [
      "25%H2O_NMP 436\n",
      "25%H2O_DMSO 588\n",
      "25%H2O_DMF 76\n",
      "NMP 210\n",
      "10%tAmOH_NMP 192\n",
      "DMSO 786\n",
      "DMF 18\n",
      "25%tAmOH_DMSO 480\n"
     ]
    }
   ],
   "source": [
    "for k in solvs:\n",
    "    print(k, len(solvs[k]))"
   ]
  },
  {
   "cell_type": "code",
   "execution_count": 80,
   "id": "f56a3b31-20f9-4ce2-bc38-a7369ff8673c",
   "metadata": {},
   "outputs": [
    {
     "name": "stderr",
     "output_type": "stream",
     "text": [
      "/var/folders/8k/w__0g4xs7rj0xv7hk3dqm71w0000gn/T/ipykernel_26660/1926821813.py:8: UserWarning: FixedFormatter should only be used together with FixedLocator\n",
      "  ax.set_xticklabels([0,20,40,60,80,100,120,140,160], fontsize=6, fontfamily=\"arial\")\n"
     ]
    },
    {
     "data": {
      "image/png": "[encoded data removed]",
      "text/plain": [
       "<Figure size 432x288 with 1 Axes>"
      ]
     },
     "metadata": {
      "needs_background": "light"
     },
     "output_type": "display_data"
    }
   ],
   "source": [
    "import matplotlib.pyplot as plt\n",
    "plot_boxplots(sort_dict_by_key(solvs))"
   ]
  },
  {
   "cell_type": "code",
   "execution_count": null,
   "id": "deb2baa5-97a2-48f0-bbee-76245ba398a4",
   "metadata": {},
   "outputs": [],
   "source": []
  },
  {
   "cell_type": "code",
   "execution_count": null,
   "id": "9fa1a27e-9704-470a-b8d2-73bede8ecc5a",
   "metadata": {},
   "outputs": [],
   "source": []
  }
 ],
 "metadata": {
  "kernelspec": {
   "display_name": "Python 3 (ipykernel)",
   "language": "python",
   "name": "python3"
  },
  "language_info": {
   "codemirror_mode": {
    "name": "ipython",
    "version": 3
   },
   "file_extension": ".py",
   "mimetype": "text/x-python",
   "name": "python",
   "nbconvert_exporter": "python",
   "pygments_lexer": "ipython3",
   "version": "3.9.7"
  }
 },
 "nbformat": 4,
 "nbformat_minor": 5
}
